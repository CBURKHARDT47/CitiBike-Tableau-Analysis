{
 "cells": [
  {
   "cell_type": "code",
   "execution_count": 5,
   "metadata": {},
   "outputs": [
    {
     "name": "stdout",
     "output_type": "stream",
     "text": [
      "Extracting and reading file: 201801-citibike-tripdata.csv.zip\n",
      "Extracting and reading file: 201802-citibike-tripdata.csv.zip\n",
      "Extracting and reading file: 201803-citibike-tripdata.csv.zip\n",
      "Extracting and reading file: 201804-citibike-tripdata.csv.zip\n",
      "Extracting and reading file: 201805-citibike-tripdata.csv.zip\n",
      "Extracting and reading file: 201806-citibike-tripdata.csv.zip\n",
      "Extracting and reading file: 201807-citibike-tripdata.csv.zip\n",
      "Extracting and reading file: 201808-citibike-tripdata.csv.zip\n",
      "Extracting and reading file: 201809-citibike-tripdata.csv.zip\n",
      "Extracting and reading file: 201810-citibike-tripdata.csv.zip\n",
      "Extracting and reading file: 201811-citibike-tripdata.csv.zip\n",
      "Extracting and reading file: 201812-citibike-tripdata.csv.zip\n",
      "Extracting and reading file: 201901-citibike-tripdata.csv.zip\n",
      "Extracting and reading file: 201902-citibike-tripdata.csv.zip\n",
      "Extracting and reading file: 201903-citibike-tripdata.csv.zip\n",
      "Extracting and reading file: 201904-citibike-tripdata.csv.zip\n",
      "Extracting and reading file: 201905-citibike-tripdata.csv.zip\n",
      "Extracting and reading file: 201906-citibike-tripdata.csv.zip\n",
      "Extracting and reading file: 201907-citibike-tripdata.csv.zip\n",
      "Extracting and reading file: 201908-citibike-tripdata.csv.zip\n",
      "Extracting and reading file: 201909-citibike-tripdata.csv.zip\n",
      "Extracting and reading file: 201910-citibike-tripdata.csv.zip\n",
      "Extracting and reading file: 201911-citibike-tripdata.csv.zip\n",
      "Extracting and reading file: 201912-citibike-tripdata.csv.zip\n",
      "Extracting and reading file: 202001-citibike-tripdata.csv.zip\n",
      "Extracting and reading file: 202002-citibike-tripdata.csv.zip\n",
      "Extracting and reading file: 202003-citibike-tripdata.csv.zip\n",
      "Extracting and reading file: 202004-citibike-tripdata.csv.zip\n",
      "Extracting and reading file: 202005-citibike-tripdata.csv.zip\n",
      "Extracting and reading file: 202006-citibike-tripdata.csv.zip\n",
      "Extracting and reading file: 202007-citibike-tripdata.csv.zip\n",
      "Extracting and reading file: 202008-citibike-tripdata.csv.zip\n",
      "Extracting and reading file: 202009-citibike-tripdata.csv.zip\n",
      "Extracting and reading file: 202010-citibike-tripdata.csv.zip\n",
      "Extracting and reading file: 202011-citibike-tripdata.csv.zip\n",
      "Extracting and reading file: 202012-citibike-tripdata.csv.zip\n",
      "CSV files merged successfully!\n",
      "CSV files merged successfully!\n"
     ]
    }
   ],
   "source": [
    "import pandas as pd\n",
    "import zipfile\n",
    "import os\n",
    "\n",
    "# Path to the directory containing CSV files\n",
    "input_directory = os.path.join(os.path.expanduser('~'), 'Desktop', 'CBTableauProject')\n",
    "output_file = os.path.join(input_directory, 'merged.csv')\n",
    "\n",
    "data_frames = []\n",
    "\n",
    "# Iterate through zipped CSV files\n",
    "for filename in os.listdir(input_directory):\n",
    "    if filename.endswith('.csv.zip'):\n",
    "        file_path = os.path.join(input_directory, filename)\n",
    "        print(f\"Extracting and reading file: {filename}\")\n",
    "        \n",
    "        # Extract the CSV file from the ZIP archive\n",
    "        with zipfile.ZipFile(file_path, 'r') as zip_ref:\n",
    "            extracted_filename = zip_ref.namelist()[0]  # Get the name of the extracted CSV file\n",
    "            zip_ref.extract(extracted_filename, input_directory)\n",
    "            \n",
    "            # Read the extracted CSV file\n",
    "            df = pd.read_csv(os.path.join(input_directory, extracted_filename), encoding='utf-8')\n",
    "            data_frames.append(df)\n",
    "            \n",
    "            # Remove the extracted CSV file to clean up\n",
    "            os.remove(os.path.join(input_directory, extracted_filename))\n",
    "\n",
    "# Concatenate all DataFrames into a single DataFrame\n",
    "if data_frames:\n",
    "    merged_df = pd.concat(data_frames, ignore_index=True)\n",
    "    # Write the merged DataFrame to the output CSV file\n",
    "    merged_df.to_csv(output_file, index=False)\n",
    "    print(\"CSV files merged successfully!\")\n",
    "else:\n",
    "    print(\"No CSV files found or read successfully.\")\n",
    "\n",
    "\n"
   ]
  },
  {
   "cell_type": "code",
   "execution_count": null,
   "metadata": {},
   "outputs": [],
   "source": []
  }
 ],
 "metadata": {
  "kernelspec": {
   "display_name": "Python 3",
   "language": "python",
   "name": "python3"
  },
  "language_info": {
   "codemirror_mode": {
    "name": "ipython",
    "version": 3
   },
   "file_extension": ".py",
   "mimetype": "text/x-python",
   "name": "python",
   "nbconvert_exporter": "python",
   "pygments_lexer": "ipython3",
   "version": "3.11.4"
  },
  "orig_nbformat": 4
 },
 "nbformat": 4,
 "nbformat_minor": 2
}
